{
 "cells": [
  {
   "cell_type": "markdown",
   "metadata": {},
   "source": [
    "## Calculate Seasonal ENSO Skill"
   ]
  },
  {
   "cell_type": "markdown",
   "metadata": {},
   "source": [
    "### In this example, we demonstrate: \n",
    "1. How to remotely access data from the North American Multi-model Ensemble (NMME) hindcast database and set it up to be used in `climpred`\n",
    "2. How to calculate the Anomaly Correlation Coefficient (ACC) using seasonal data"
   ]
  },
  {
   "cell_type": "markdown",
   "metadata": {},
   "source": [
    "### The North American Multi-model Ensemble (NMME)\n",
    "\n",
    "Further information on NMME is available from [Kirtman et al. 2014](https://journals.ametsoc.org/doi/full/10.1175/BAMS-D-12-00050.1) and the [NMME project website](https://www.cpc.ncep.noaa.gov/products/NMME/)\n",
    "\n",
    "The NMME public database is hosted on the International Research Institute for Climate and Society (IRI) data server http://iridl.ldeo.columbia.edu/SOURCES/.Models/.NMME/"
   ]
  },
  {
   "cell_type": "markdown",
   "metadata": {},
   "source": [
    "### Definitions\n",
    "\n",
    "Anomalies\n",
    ": Departure from normal, where normal is defined as the climatological value based on the average value for each month over all years.\n",
    "\n",
    "Nino3.4\n",
    ": An index used to represent the evolution of the El Nino-Southern Oscillation (ENSO). Calculated as the average sea surface temperature (SST) anomalies in the region 5S-5N; 190-240"
   ]
  },
  {
   "cell_type": "code",
   "execution_count": null,
   "metadata": {
    "ExecuteTime": {
     "end_time": "2020-01-21T22:30:47.014172Z",
     "start_time": "2020-01-21T22:30:47.005948Z"
    }
   },
   "outputs": [],
   "source": [
    "import warnings\n",
    "\n",
    "import matplotlib.pyplot as plt\n",
    "import xarray as xr\n",
    "import pandas as pd\n",
    "import numpy as np\n",
    "\n",
    "from climpred import HindcastEnsemble\n",
    "import climpred\n",
    "\n",
    "import fsspec"
   ]
  },
  {
   "cell_type": "code",
   "execution_count": null,
   "metadata": {
    "ExecuteTime": {
     "end_time": "2020-01-21T22:30:48.032373Z",
     "start_time": "2020-01-21T22:30:48.030330Z"
    }
   },
   "outputs": [],
   "source": [
    "warnings.filterwarnings(\"ignore\")"
   ]
  },
  {
   "cell_type": "code",
   "execution_count": null,
   "metadata": {
    "ExecuteTime": {
     "end_time": "2020-01-21T22:30:48.720892Z",
     "start_time": "2020-01-21T22:30:48.717959Z"
    }
   },
   "outputs": [],
   "source": [
    "def decode_cf(ds, time_var):\n",
    "    if ds[time_var].attrs['calendar'] == '360':\n",
    "        ds[time_var].attrs['calendar'] = '360_day'\n",
    "    ds = xr.decode_cf(ds, decode_times=True)\n",
    "    return ds"
   ]
  },
  {
   "cell_type": "markdown",
   "metadata": {},
   "source": [
    "Load the monthly sea surface temperature (SST) hindcast data for the NCEP-CFSv2 model with the Nino34 region already extracted."
   ]
  },
  {
   "cell_type": "code",
   "execution_count": null,
   "metadata": {
    "ExecuteTime": {
     "end_time": "2020-01-21T22:31:15.065520Z",
     "start_time": "2020-01-21T22:31:05.662992Z"
    }
   },
   "outputs": [],
   "source": [
    "filepath = '/glade/work/rbrady/workshops/climpred/NMME_NCEP-CFSv2_SSTENSOREG_Hindcast.nc'\n",
    "fcstds = xr.open_dataset(filepath, decode_times=False)\n",
    "\n",
    "# If not on Cheyenne, comment out above and uncomment below.\n",
    "# fcstds = xr.open_zarr(fsspec.get_mapper('gcs://climpred_workshop/NMME_NCEP-CFSv2_SSTENSOREG_Hindcast'),\n",
    "#                      decode_times=False)\n",
    "\n",
    "fcstds = decode_cf(fcstds, 'S')"
   ]
  },
  {
   "cell_type": "markdown",
   "metadata": {},
   "source": [
    "The NMME data dimensions correspond to the following `climpred` dimension definitions: `X=lon`,`L=lead`,`Y=lat`,`M=member`, `S=init`.  We will rename the dimensions to their `climpred` names."
   ]
  },
  {
   "cell_type": "code",
   "execution_count": null,
   "metadata": {
    "ExecuteTime": {
     "end_time": "2020-01-21T22:31:17.128511Z",
     "start_time": "2020-01-21T22:31:17.125576Z"
    }
   },
   "outputs": [],
   "source": [
    "fcstds=fcstds.rename({'S': 'init','L': 'lead','M': 'member', 'X': 'lon', 'Y': 'lat'})"
   ]
  },
  {
   "cell_type": "markdown",
   "metadata": {},
   "source": [
    "Let's make sure that the `lead` dimension is set properly for `climpred`.  NMME data stores `leads` as 0.5, 1.5, 2.5, etc, which correspond to 0, 1, 2, ... months since initialization. We will change the `lead` to be integers starting with zero."
   ]
  },
  {
   "cell_type": "code",
   "execution_count": null,
   "metadata": {
    "ExecuteTime": {
     "end_time": "2020-01-21T22:31:17.866295Z",
     "start_time": "2020-01-21T22:31:17.862159Z"
    }
   },
   "outputs": [],
   "source": [
    "fcstds['lead']=(fcstds['lead']-0.5).astype('int')"
   ]
  },
  {
   "cell_type": "markdown",
   "metadata": {},
   "source": [
    "Now we need to make sure that the `init` dimension is set properly for `climpred`.  For monthly data, the `init` dimension must be a `xr.cfdateTimeIndex` or a `pd.datetimeIndex`.  We convert the `init` values to `pd.datatimeIndex`."
   ]
  },
  {
   "cell_type": "code",
   "execution_count": null,
   "metadata": {
    "ExecuteTime": {
     "end_time": "2020-01-21T22:31:18.566733Z",
     "start_time": "2020-01-21T22:31:18.549903Z"
    }
   },
   "outputs": [],
   "source": [
    "fcstds['init']=pd.to_datetime(fcstds.init.values.astype(str))\n",
    "fcstds['init']=pd.to_datetime(fcstds['init'].dt.strftime('%Y%m01 00:00'))"
   ]
  },
  {
   "cell_type": "markdown",
   "metadata": {},
   "source": [
    "Next, we want to get the verification SST data with the Nino34 region already extracted."
   ]
  },
  {
   "cell_type": "code",
   "execution_count": null,
   "metadata": {
    "ExecuteTime": {
     "end_time": "2020-01-21T22:31:31.227056Z",
     "start_time": "2020-01-21T22:31:29.518373Z"
    }
   },
   "outputs": [],
   "source": [
    "filepath = '/glade/work/rbrady/workshops/climpred/NMME_NOAA-OISSTv2_SSTENSOREG_Verif.nc'\n",
    "verifds = xr.open_dataset(filepath, decode_times=False)\n",
    "\n",
    "# If not on Cheyenne, comment out above and uncomment below.\n",
    "# verifds = xr.open_zarr(fsspec.get_mapper('gcs://climpred_workshop/NMME_NOAA-OISSTv2_SSTENSOREG_Verif'),\n",
    "#                      decode_times=False)\n",
    "\n",
    "verifds = decode_cf(verifds, 'T')"
   ]
  },
  {
   "cell_type": "markdown",
   "metadata": {},
   "source": [
    "Rename the dimensions to correspond to `climpred` dimensions"
   ]
  },
  {
   "cell_type": "code",
   "execution_count": null,
   "metadata": {
    "ExecuteTime": {
     "end_time": "2020-01-21T22:32:03.986443Z",
     "start_time": "2020-01-21T22:32:03.983527Z"
    }
   },
   "outputs": [],
   "source": [
    "verifds=verifds.rename({'T': 'time','X': 'lon', 'Y': 'lat'})"
   ]
  },
  {
   "cell_type": "markdown",
   "metadata": {},
   "source": [
    "Convert the `time` data to be of type `pd.datetimeIndex`"
   ]
  },
  {
   "cell_type": "code",
   "execution_count": null,
   "metadata": {
    "ExecuteTime": {
     "end_time": "2020-01-21T22:32:06.423929Z",
     "start_time": "2020-01-21T22:32:06.406811Z"
    }
   },
   "outputs": [],
   "source": [
    "verifds['time']=pd.to_datetime(verifds.time.values.astype(str))\n",
    "verifds['time']=pd.to_datetime(verifds['time'].dt.strftime('%Y%m01 00:00'))\n",
    "verifds"
   ]
  },
  {
   "cell_type": "markdown",
   "metadata": {},
   "source": [
    "Subset the data to 1982-2010"
   ]
  },
  {
   "cell_type": "code",
   "execution_count": null,
   "metadata": {
    "ExecuteTime": {
     "end_time": "2020-01-21T22:32:07.181518Z",
     "start_time": "2020-01-21T22:32:07.173729Z"
    }
   },
   "outputs": [],
   "source": [
    "verifds=verifds.sel(time=slice('1982-01-01','2010-12-01'))\n",
    "fcstds=fcstds.sel(init=slice('1982-01-01','2010-12-01'))"
   ]
  },
  {
   "cell_type": "markdown",
   "metadata": {},
   "source": [
    "Calculate the Nino3.4 index for forecast and verification"
   ]
  },
  {
   "cell_type": "code",
   "execution_count": null,
   "metadata": {
    "ExecuteTime": {
     "end_time": "2020-01-21T22:32:08.790135Z",
     "start_time": "2020-01-21T22:32:08.653313Z"
    }
   },
   "outputs": [],
   "source": [
    "fcstnino34=fcstds.sel(lat=slice(-5,5),lon=slice(190,240)).mean(['lat','lon'])\n",
    "verifnino34=verifds.sel(lat=slice(-5,5),lon=slice(190,240)).mean(['lat','lon'])\n",
    "\n",
    "fcstclimo = fcstnino34.groupby('init.month').mean('init')\n",
    "fcstanoms = (fcstnino34.groupby('init.month') - fcstclimo)\n",
    "\n",
    "verifclimo = verifnino34.groupby('time.month').mean('time')\n",
    "verifanoms = (verifnino34.groupby('time.month') - verifclimo)\n",
    "\n",
    "print(fcstanoms)\n",
    "print(verifanoms)"
   ]
  },
  {
   "cell_type": "markdown",
   "metadata": {},
   "source": [
    "Make Seasonal Averages with center=True and drop NaNs.  This means that the first value "
   ]
  },
  {
   "cell_type": "code",
   "execution_count": null,
   "metadata": {
    "ExecuteTime": {
     "end_time": "2020-01-21T22:32:14.463693Z",
     "start_time": "2020-01-21T22:32:10.156305Z"
    }
   },
   "outputs": [],
   "source": [
    "fcstnino34seas=fcstanoms.rolling(lead=3, center=True).mean().dropna(dim='lead')\n",
    "verifnino34seas=verifanoms.rolling(time=3, center=True).mean().dropna(dim='time')"
   ]
  },
  {
   "cell_type": "markdown",
   "metadata": {},
   "source": [
    "Create new `xr.DataArray` with seasonal data"
   ]
  },
  {
   "cell_type": "code",
   "execution_count": null,
   "metadata": {
    "ExecuteTime": {
     "end_time": "2020-01-21T22:32:17.424042Z",
     "start_time": "2020-01-21T22:32:14.464973Z"
    }
   },
   "outputs": [],
   "source": [
    "nleads=fcstnino34seas['lead'][::3].size\n",
    "fcst=xr.DataArray(fcstnino34seas['sst'][:,::3,:], \n",
    "                           coords={'init' : fcstnino34seas['init'],\n",
    "                                   'lead': np.arange(0,nleads),\n",
    "                                   'member': fcstanoms['member'],\n",
    "                                   },\n",
    "                           dims=['init','lead','member'])\n",
    "fcst.name = 'sst'"
   ]
  },
  {
   "cell_type": "markdown",
   "metadata": {},
   "source": [
    "Assign the `units` attribute of `seasons` to the `lead` dimension"
   ]
  },
  {
   "cell_type": "code",
   "execution_count": null,
   "metadata": {
    "ExecuteTime": {
     "end_time": "2020-01-21T22:32:18.342193Z",
     "start_time": "2020-01-21T22:32:18.340026Z"
    }
   },
   "outputs": [],
   "source": [
    "fcst['lead'].attrs={'units': 'seasons'}"
   ]
  },
  {
   "cell_type": "markdown",
   "metadata": {},
   "source": [
    "Create a `climpred HindcastEnsemble` object"
   ]
  },
  {
   "cell_type": "code",
   "execution_count": null,
   "metadata": {
    "ExecuteTime": {
     "end_time": "2020-01-21T22:32:28.635024Z",
     "start_time": "2020-01-21T22:32:28.521906Z"
    }
   },
   "outputs": [],
   "source": [
    "hindcast = HindcastEnsemble(fcst)\n",
    "hindcast = hindcast.add_observations(verifnino34seas, 'observations')"
   ]
  },
  {
   "cell_type": "markdown",
   "metadata": {},
   "source": [
    "Compute the Anomaly Correlation Coefficient (ACC) 0, 1, 2, and 3 season lead-times"
   ]
  },
  {
   "cell_type": "code",
   "execution_count": null,
   "metadata": {
    "ExecuteTime": {
     "end_time": "2020-01-21T22:32:35.008253Z",
     "start_time": "2020-01-21T22:32:34.724942Z"
    }
   },
   "outputs": [],
   "source": [
    "skillds = hindcast.verify(metric='acc')\n",
    "print(skillds)"
   ]
  },
  {
   "cell_type": "markdown",
   "metadata": {},
   "source": [
    "Make bar plot of Nino3.4 skill for 0,1, and 2 season lead times"
   ]
  },
  {
   "cell_type": "code",
   "execution_count": null,
   "metadata": {
    "ExecuteTime": {
     "end_time": "2020-01-21T22:32:46.843613Z",
     "start_time": "2020-01-21T22:32:36.117563Z"
    }
   },
   "outputs": [],
   "source": [
    "x=np.arange(0,nleads,1.0).astype(int)\n",
    "plt.bar(x,skillds['sst'])\n",
    "plt.xticks(x)\n",
    "plt.title('NCEP-CFSv2 Nino34 ACC')\n",
    "plt.xlabel('Lead (Season)')\n",
    "plt.ylabel('ACC')"
   ]
  },
  {
   "cell_type": "markdown",
   "metadata": {},
   "source": [
    "### References\n",
    "\n",
    "1. Kirtman, B.P., D. Min, J.M. Infanti, J.L. Kinter, D.A. Paolino, Q. Zhang, H. van den Dool, S. Saha, M.P. Mendez, E. Becker, P. Peng, P. Tripp, J. Huang, D.G. DeWitt, M.K. Tippett, A.G. Barnston, S. Li, A. Rosati, S.D. Schubert, M. Rienecker, M. Suarez, Z.E. Li, J. Marshak, Y. Lim, J. Tribbia, K. Pegion, W.J. Merryfield, B. Denis, and E.F. Wood, 2014: The North American Multimodel Ensemble: Phase-1 Seasonal-to-Interannual Prediction; Phase-2 toward Developing Intraseasonal Prediction. Bull. Amer. Meteor. Soc., 95, 585–601, https://doi.org/10.1175/BAMS-D-12-00050.1"
   ]
  }
 ],
 "metadata": {
  "kernelspec": {
   "display_name": "Python 3",
   "language": "python",
   "name": "python3"
  },
  "language_info": {
   "codemirror_mode": {
    "name": "ipython",
    "version": 3
   },
   "file_extension": ".py",
   "mimetype": "text/x-python",
   "name": "python",
   "nbconvert_exporter": "python",
   "pygments_lexer": "ipython3",
   "version": "3.7.3"
  },
  "toc": {
   "base_numbering": 1,
   "nav_menu": {},
   "number_sections": true,
   "sideBar": true,
   "skip_h1_title": false,
   "title_cell": "Table of Contents",
   "title_sidebar": "Contents",
   "toc_cell": false,
   "toc_position": {},
   "toc_section_display": true,
   "toc_window_display": false
  },
  "varInspector": {
   "cols": {
    "lenName": 16,
    "lenType": 16,
    "lenVar": 40
   },
   "kernels_config": {
    "python": {
     "delete_cmd_postfix": "",
     "delete_cmd_prefix": "del ",
     "library": "var_list.py",
     "varRefreshCmd": "print(var_dic_list())"
    },
    "r": {
     "delete_cmd_postfix": ") ",
     "delete_cmd_prefix": "rm(",
     "library": "var_list.r",
     "varRefreshCmd": "cat(var_dic_list()) "
    }
   },
   "types_to_exclude": [
    "module",
    "function",
    "builtin_function_or_method",
    "instance",
    "_Feature"
   ],
   "window_display": false
  }
 },
 "nbformat": 4,
 "nbformat_minor": 4
}
