{
 "cells": [
  {
   "cell_type": "markdown",
   "metadata": {},
   "source": [
    "## Calculate ENSO Skill as a Function of Initial Month vs. Lead Time"
   ]
  },
  {
   "cell_type": "markdown",
   "metadata": {},
   "source": [
    "### In this example, we demonstrate: \n",
    "1. How to remotely access data from the North American Multi-model Ensemble (NMME) hindcast database and set it up to be used in `climpred`. \n",
    "2. How to calculate the Anomaly Correlation Coefficient (ACC) using monthly data\n",
    "3. How to calculate and plot historical forecast skill of the Nino3.4 index as function of initialization month and lead time."
   ]
  },
  {
   "cell_type": "markdown",
   "metadata": {},
   "source": [
    "### The North American Multi-model Ensemble (NMME)\n",
    "\n",
    "Further information on NMME is available from [Kirtman et al. 2014](https://journals.ametsoc.org/doi/full/10.1175/BAMS-D-12-00050.1) and the [NMME project website](https://www.cpc.ncep.noaa.gov/products/NMME/)\n",
    "\n",
    "The NMME public database is hosted on the International Research Institute for Climate and Society (IRI) data server http://iridl.ldeo.columbia.edu/SOURCES/.Models/.NMME/\n",
    "\n",
    "Since the NMME data server is accessed via this notebook, the time for the notebook to run may take a few minutes and vary depending on the speed that data is downloaded."
   ]
  },
  {
   "cell_type": "markdown",
   "metadata": {},
   "source": [
    "### Definitions\n",
    "\n",
    "**Anomalies**\n",
    ": Departure from normal, where normal is defined as the climatological value based on the average value for each month over all years.\n",
    "\n",
    "**Nino3.4**\n",
    ": An index used to represent the evolution of the El Nino-Southern Oscillation (ENSO). Calculated as the average sea surface temperature (SST) anomalies in the region 5S-5N; 190-240"
   ]
  },
  {
   "cell_type": "code",
   "execution_count": null,
   "metadata": {
    "ExecuteTime": {
     "end_time": "2020-01-21T22:35:29.361494Z",
     "start_time": "2020-01-21T22:35:27.731005Z"
    }
   },
   "outputs": [],
   "source": [
    "import warnings\n",
    "\n",
    "import matplotlib.pyplot as plt\n",
    "import xarray as xr\n",
    "import pandas as pd\n",
    "import numpy as np\n",
    "from tqdm.auto import tqdm\n",
    "\n",
    "from climpred import HindcastEnsemble\n",
    "import climpred\n",
    "\n",
    "import fsspec"
   ]
  },
  {
   "cell_type": "code",
   "execution_count": null,
   "metadata": {
    "ExecuteTime": {
     "end_time": "2020-01-21T22:35:29.852731Z",
     "start_time": "2020-01-21T22:35:29.850628Z"
    }
   },
   "outputs": [],
   "source": [
    "warnings.filterwarnings(\"ignore\")"
   ]
  },
  {
   "cell_type": "markdown",
   "metadata": {},
   "source": [
    "Function to set 360 calendar to 360_day calendar and decond cf times"
   ]
  },
  {
   "cell_type": "code",
   "execution_count": null,
   "metadata": {
    "ExecuteTime": {
     "end_time": "2020-01-21T22:35:30.372752Z",
     "start_time": "2020-01-21T22:35:30.370076Z"
    }
   },
   "outputs": [],
   "source": [
    "def decode_cf(ds, time_var):\n",
    "    if ds[time_var].attrs['calendar'] == '360':\n",
    "        ds[time_var].attrs['calendar'] = '360_day'\n",
    "    ds = xr.decode_cf(ds, decode_times=True)\n",
    "    return ds"
   ]
  },
  {
   "cell_type": "markdown",
   "metadata": {},
   "source": [
    "Load the monthly sea surface temperature (SST) hindcast data for the NCEP-CFSv2 model with the Nino34 region already extracted."
   ]
  },
  {
   "cell_type": "code",
   "execution_count": null,
   "metadata": {
    "ExecuteTime": {
     "end_time": "2020-01-21T22:28:16.908644Z",
     "start_time": "2020-01-21T22:28:15.825600Z"
    }
   },
   "outputs": [],
   "source": [
    "fcstds = xr.open_zarr(fsspec.get_mapper('gcs://climpred_workshop/NMME_NCEP-CFSv2_SSTENSOREG_Hindcast'),\n",
    "                      decode_times=False)\n",
    "fcstds = decode_cf(fcstds, 'S')"
   ]
  },
  {
   "cell_type": "code",
   "execution_count": null,
   "metadata": {
    "ExecuteTime": {
     "end_time": "2020-01-21T22:28:18.143327Z",
     "start_time": "2020-01-21T22:28:18.128990Z"
    }
   },
   "outputs": [],
   "source": [
    "fcstds"
   ]
  },
  {
   "cell_type": "markdown",
   "metadata": {},
   "source": [
    "The NMME data dimensions correspond to the following `climpred` dimension definitions: `X=lon`,`L=lead`,`Y=lat`,`M=member`, `S=init`.  We will rename the dimensions to their `climpred` names."
   ]
  },
  {
   "cell_type": "code",
   "execution_count": null,
   "metadata": {
    "ExecuteTime": {
     "end_time": "2020-01-21T22:28:20.201635Z",
     "start_time": "2020-01-21T22:28:20.198976Z"
    }
   },
   "outputs": [],
   "source": [
    "fcstds=fcstds.rename({'S': 'init','L': 'lead','M': 'member', 'X': 'lon', 'Y': 'lat'})"
   ]
  },
  {
   "cell_type": "markdown",
   "metadata": {},
   "source": [
    "Let's make sure that the `lead` dimension is set properly for `climpred`.  NMME data stores `leads` as 0.5, 1.5, 2.5, etc, which correspond to 0, 1, 2, ... months since initialization. We will change the `lead` to be integers starting with zero.  `climpred` also requires that `lead` dimension has an attribute called `units` indicating what time units the `lead` is assocated with.  Options are: `years,seasons,months,weeks,pentads,days`.  For the monthly NMME data, the `lead` `units` are `months`.  "
   ]
  },
  {
   "cell_type": "code",
   "execution_count": null,
   "metadata": {
    "ExecuteTime": {
     "end_time": "2020-01-21T22:28:21.419282Z",
     "start_time": "2020-01-21T22:28:21.415301Z"
    }
   },
   "outputs": [],
   "source": [
    "fcstds['lead']=(fcstds['lead']-0.5).astype('int')\n",
    "fcstds['lead'].attrs={'units': 'months'}"
   ]
  },
  {
   "cell_type": "markdown",
   "metadata": {},
   "source": [
    "Now we need to make sure that the `init` dimension is set properly for `climpred`.  For monthly data, the `init` dimension must be a `xr.cfdateTimeIndex` or a `pd.datetimeIndex`.  We convert the `init` values to `pd.datatimeIndex`."
   ]
  },
  {
   "cell_type": "code",
   "execution_count": null,
   "metadata": {
    "ExecuteTime": {
     "end_time": "2020-01-21T22:28:22.156675Z",
     "start_time": "2020-01-21T22:28:22.142723Z"
    }
   },
   "outputs": [],
   "source": [
    "fcstds['init']=pd.to_datetime(fcstds.init.values.astype(str))\n",
    "fcstds['init']=pd.to_datetime(fcstds['init'].dt.strftime('%Y%m01 00:00'))"
   ]
  },
  {
   "cell_type": "markdown",
   "metadata": {},
   "source": [
    "Next, we want to get the verification SST data with the Nino34 region already extracted."
   ]
  },
  {
   "cell_type": "code",
   "execution_count": null,
   "metadata": {
    "ExecuteTime": {
     "end_time": "2020-01-21T22:29:14.975853Z",
     "start_time": "2020-01-21T22:29:14.024645Z"
    }
   },
   "outputs": [],
   "source": [
    "verifds = xr.open_zarr(fsspec.get_mapper('gcs://climpred_workshop/NMME_NOAA-OISSTv2_SSTENSOREG_Verif'),\n",
    "                      decode_times=False)\n",
    "verifds = decode_cf(verifds, 'T')"
   ]
  },
  {
   "cell_type": "code",
   "execution_count": null,
   "metadata": {
    "ExecuteTime": {
     "end_time": "2020-01-21T22:29:15.586007Z",
     "start_time": "2020-01-21T22:29:15.576515Z"
    }
   },
   "outputs": [],
   "source": [
    "verifds"
   ]
  },
  {
   "cell_type": "markdown",
   "metadata": {},
   "source": [
    "Rename the dimensions to correspond to climpred dimensions"
   ]
  },
  {
   "cell_type": "code",
   "execution_count": null,
   "metadata": {
    "ExecuteTime": {
     "end_time": "2020-01-21T22:29:16.704713Z",
     "start_time": "2020-01-21T22:29:16.702056Z"
    }
   },
   "outputs": [],
   "source": [
    "verifds=verifds.rename({'T': 'time','X': 'lon', 'Y': 'lat'})"
   ]
  },
  {
   "cell_type": "markdown",
   "metadata": {},
   "source": [
    "Convert the `time` data to be of type `pd.datetimeIndex`"
   ]
  },
  {
   "cell_type": "code",
   "execution_count": null,
   "metadata": {
    "ExecuteTime": {
     "end_time": "2020-01-21T22:29:18.192666Z",
     "start_time": "2020-01-21T22:29:18.182452Z"
    }
   },
   "outputs": [],
   "source": [
    "verifds['time']=pd.to_datetime(verifds.time.values.astype(str))\n",
    "verifds['time']=pd.to_datetime(verifds['time'].dt.strftime('%Y%m01 00:00'))"
   ]
  },
  {
   "cell_type": "markdown",
   "metadata": {},
   "source": [
    "Subset the data to 1982-2010"
   ]
  },
  {
   "cell_type": "code",
   "execution_count": null,
   "metadata": {
    "ExecuteTime": {
     "end_time": "2020-01-21T22:29:18.621829Z",
     "start_time": "2020-01-21T22:29:18.613751Z"
    }
   },
   "outputs": [],
   "source": [
    "fcstds=fcstds.sel(init=slice('1982-01-01','2010-12-01'))\n",
    "verifds=verifds.sel(time=slice('1982-01-01','2010-12-01'))"
   ]
  },
  {
   "cell_type": "markdown",
   "metadata": {},
   "source": [
    "Calculate the Nino3.4 index for forecast and verification."
   ]
  },
  {
   "cell_type": "code",
   "execution_count": null,
   "metadata": {
    "ExecuteTime": {
     "end_time": "2020-01-21T22:29:20.029927Z",
     "start_time": "2020-01-21T22:29:19.901979Z"
    }
   },
   "outputs": [],
   "source": [
    "fcstnino34=fcstds.mean(['lat','lon'])\n",
    "verifnino34=verifds.mean(['lat','lon'])\n",
    "\n",
    "fcstclimo = fcstnino34.groupby('init.month').mean('init')\n",
    "fcst = (fcstnino34.groupby('init.month') - fcstclimo)\n",
    "\n",
    "verifclimo = verifnino34.groupby('time.month').mean('time')\n",
    "verif = (verifnino34.groupby('time.month') - verifclimo)"
   ]
  },
  {
   "cell_type": "markdown",
   "metadata": {},
   "source": [
    "Because will will calculate the anomaly correlation coefficient over all `time` for verification and `init` for the hindcasts, we need to rechunk the data so that these dimensions are in same chunk"
   ]
  },
  {
   "cell_type": "code",
   "execution_count": null,
   "metadata": {
    "ExecuteTime": {
     "end_time": "2020-01-21T22:29:23.159138Z",
     "start_time": "2020-01-21T22:29:23.150177Z"
    }
   },
   "outputs": [],
   "source": [
    "fcst=fcst.chunk({'init':-1})\n",
    "verif=verif.chunk({'time':-1})"
   ]
  },
  {
   "cell_type": "markdown",
   "metadata": {},
   "source": [
    "Use the `climpred HindcastEnsemble` to calculate the anomaly correlation coefficient (ACC) as a function of initial month and `lead` "
   ]
  },
  {
   "cell_type": "code",
   "execution_count": null,
   "metadata": {
    "ExecuteTime": {
     "end_time": "2020-01-21T22:29:47.743250Z",
     "start_time": "2020-01-21T22:29:24.621997Z"
    }
   },
   "outputs": [],
   "source": [
    "skill=np.zeros((fcst['lead'].size, 12))\n",
    "for im in tqdm(np.arange(0,12)):\n",
    "    hindcast = HindcastEnsemble(fcst.sel(init=fcst['init.month']==im+1))\n",
    "    hindcast = hindcast.add_reference(verif, 'observations')\n",
    "    skillds = hindcast.compute_metric(metric='acc')\n",
    "    skill[:,im]=skillds['sst'].values"
   ]
  },
  {
   "cell_type": "markdown",
   "metadata": {},
   "source": [
    "Plot the ACC as function of Initial Month and lead-time"
   ]
  },
  {
   "cell_type": "code",
   "execution_count": null,
   "metadata": {
    "ExecuteTime": {
     "end_time": "2020-01-21T22:30:04.839700Z",
     "start_time": "2020-01-21T22:30:04.669845Z"
    }
   },
   "outputs": [],
   "source": [
    "plt.pcolormesh(skill,cmap=plt.cm.YlOrRd,vmin=0.0,vmax=1.0)\n",
    "plt.colorbar()\n",
    "plt.title('NCEP-CFSv2 Nino3.4 ACC')\n",
    "plt.xlabel('Initial Month')\n",
    "plt.ylabel('Lead Time (Months)')"
   ]
  },
  {
   "cell_type": "markdown",
   "metadata": {},
   "source": [
    "### References\n",
    "\n",
    "1. Kirtman, B.P., D. Min, J.M. Infanti, J.L. Kinter, D.A. Paolino, Q. Zhang, H. van den Dool, S. Saha, M.P. Mendez, E. Becker, P. Peng, P. Tripp, J. Huang, D.G. DeWitt, M.K. Tippett, A.G. Barnston, S. Li, A. Rosati, S.D. Schubert, M. Rienecker, M. Suarez, Z.E. Li, J. Marshak, Y. Lim, J. Tribbia, K. Pegion, W.J. Merryfield, B. Denis, and E.F. Wood, 2014: The North American Multimodel Ensemble: Phase-1 Seasonal-to-Interannual Prediction; Phase-2 toward Developing Intraseasonal Prediction. Bull. Amer. Meteor. Soc., 95, 585–601, https://doi.org/10.1175/BAMS-D-12-00050.1"
   ]
  }
 ],
 "metadata": {
  "kernelspec": {
   "display_name": "Python 3",
   "language": "python",
   "name": "python3"
  },
  "language_info": {
   "codemirror_mode": {
    "name": "ipython",
    "version": 3
   },
   "file_extension": ".py",
   "mimetype": "text/x-python",
   "name": "python",
   "nbconvert_exporter": "python",
   "pygments_lexer": "ipython3",
   "version": "3.6.7"
  },
  "toc": {
   "base_numbering": 1,
   "nav_menu": {},
   "number_sections": true,
   "sideBar": true,
   "skip_h1_title": false,
   "title_cell": "Table of Contents",
   "title_sidebar": "Contents",
   "toc_cell": false,
   "toc_position": {},
   "toc_section_display": true,
   "toc_window_display": false
  },
  "varInspector": {
   "cols": {
    "lenName": 16,
    "lenType": 16,
    "lenVar": 40
   },
   "kernels_config": {
    "python": {
     "delete_cmd_postfix": "",
     "delete_cmd_prefix": "del ",
     "library": "var_list.py",
     "varRefreshCmd": "print(var_dic_list())"
    },
    "r": {
     "delete_cmd_postfix": ") ",
     "delete_cmd_prefix": "rm(",
     "library": "var_list.r",
     "varRefreshCmd": "cat(var_dic_list()) "
    }
   },
   "types_to_exclude": [
    "module",
    "function",
    "builtin_function_or_method",
    "instance",
    "_Feature"
   ],
   "window_display": false
  }
 },
 "nbformat": 4,
 "nbformat_minor": 4
}
