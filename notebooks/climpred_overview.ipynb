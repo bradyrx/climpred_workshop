{
 "cells": [
  {
   "cell_type": "code",
   "execution_count": 1,
   "metadata": {
    "slideshow": {
     "slide_type": "skip"
    }
   },
   "outputs": [],
   "source": [
    "%matplotlib inline\n",
    "import matplotlib.pyplot as plt\n",
    "plt.style.use('seaborn-notebook')\n",
    "plt.style.use('ggplot')\n",
    "\n",
    "# So we don't get warnings showing up in the talk.\n",
    "import warnings\n",
    "warnings.filterwarnings(\"ignore\")"
   ]
  },
  {
   "cell_type": "markdown",
   "metadata": {
    "slideshow": {
     "slide_type": "slide"
    }
   },
   "source": [
    "![](img/climpred-logo.png)\n",
    "\n",
    "an `xarray` wrapper for analysis of ensemble forecast models for climate prediction."
   ]
  },
  {
   "cell_type": "markdown",
   "metadata": {
    "slideshow": {
     "slide_type": "slide"
    }
   },
   "source": [
    "# Mission Statement\n",
    "\n",
    "`climpred` is a high-level package that leverages the scientific python ecosystem to provide an *interactive* experience for analyzing initialized prediction systems, from file input to publication-ready visualizations."
   ]
  },
  {
   "cell_type": "markdown",
   "metadata": {
    "slideshow": {
     "slide_type": "slide"
    }
   },
   "source": [
    "# Why do we need a package like this?"
   ]
  },
  {
   "cell_type": "markdown",
   "metadata": {
    "slideshow": {
     "slide_type": "subslide"
    }
   },
   "source": [
    "The current convention is for scientists to write their own code snippets in their language of choice: e.g., NCL, MATLAB, GrADS, FORTRAN. This means that scientists spend a considerable portion of their research time manually aligning forecast and verification dates and writing their own metrics."
   ]
  },
  {
   "cell_type": "markdown",
   "metadata": {
    "slideshow": {
     "slide_type": "fragment"
    }
   },
   "source": [
    "With databases like the CESM-DPLE, the Decadal Climate Prediction Protocol (DCPP), SubX, NMME, we have an unprecedented amount of prediction experiments to analyze."
   ]
  },
  {
   "cell_type": "markdown",
   "metadata": {
    "slideshow": {
     "slide_type": "fragment"
    }
   },
   "source": [
    "\n",
    "If the community can unite around an open-source framework, we can spend more time analyzing output and less time writing (and re-writing) code."
   ]
  },
  {
   "cell_type": "markdown",
   "metadata": {
    "slideshow": {
     "slide_type": "slide"
    }
   },
   "source": [
    "# Why Python?: Open Source Capabilities\n",
    "\n",
    "![](img/python-logo.png)"
   ]
  },
  {
   "cell_type": "markdown",
   "metadata": {
    "slideshow": {
     "slide_type": "fragment"
    }
   },
   "source": [
    "Why not NCL, MATLAB, FORTRAN?"
   ]
  },
  {
   "cell_type": "markdown",
   "metadata": {
    "slideshow": {
     "slide_type": "subslide"
    }
   },
   "source": [
    "**Python is open-source**. This makes the software transparent, and more importantly allows for community contributions and collaboration.\n",
    "\n",
    "![](img/github-logo.png)\n",
    "**Code**: <a href=\"https://github.com/bradyrx/climpred\">\n",
    "    github.com/bradyrx/climpred\n",
    "</a>\n",
    "\n",
    "**Documentation**: <a href=\"https://climpred.readthedocs.io/en/stable/\">climpred.readthedocs.io</a>"
   ]
  },
  {
   "cell_type": "markdown",
   "metadata": {
    "slideshow": {
     "slide_type": "subslide"
    }
   },
   "source": [
    "Bugs, suggestions, discussions can be posted by any user.\n",
    "\n",
    "![](img/github-issues.png)"
   ]
  },
  {
   "cell_type": "markdown",
   "metadata": {
    "slideshow": {
     "slide_type": "subslide"
    }
   },
   "source": [
    "New functions, metrics, etc. can be added by the community and are subject to (friendly) peer code review.\n",
    "\n",
    "![](img/contributors.png)"
   ]
  },
  {
   "cell_type": "markdown",
   "metadata": {
    "slideshow": {
     "slide_type": "subslide"
    }
   },
   "source": [
    "Packages like `pytest` allow us to rigorously test the existing code base and any new code that is added.\n",
    "\n",
    "![](img/pytest.png)"
   ]
  },
  {
   "cell_type": "markdown",
   "metadata": {
    "slideshow": {
     "slide_type": "subslide"
    }
   },
   "source": [
    "# Why Python?: Scientific Software\n",
    "\n",
    "![](img/pangeo-logo.png)\n",
    "\n",
    "The `pangeo` project organizes a community of developers working in python for Big Data geoscience research."
   ]
  },
  {
   "cell_type": "markdown",
   "metadata": {
    "slideshow": {
     "slide_type": "subslide"
    }
   },
   "source": [
    "![](img/xarray-logo.png)\n",
    "\n",
    "`xarray` is the core driver of `climpred` and allows for easy analysis of *labeled* multi-dimensional arrays of data."
   ]
  },
  {
   "cell_type": "markdown",
   "metadata": {
    "slideshow": {
     "slide_type": "subslide"
    }
   },
   "source": [
    "`xarray` Datasets preserve all metadata associated with the netCDF file."
   ]
  },
  {
   "cell_type": "code",
   "execution_count": 2,
   "metadata": {
    "slideshow": {
     "slide_type": "skip"
    }
   },
   "outputs": [],
   "source": [
    "import xarray\n",
    "dataset = xarray.tutorial.open_dataset('air_temperature')\n",
    "# Convert to `cftime` for demonstration purposes.\n",
    "time_cf = xarray.cftime_range('2013-01', '2015-01-01', freq='6H', calendar='gregorian')[:-1]\n",
    "dataset['time'] = time_cf\n",
    "# Saved to netCDF so we can demonstrate the loading functionality.\n",
    "# dataset.to_netcdf('data/nmc_air_temperature.nc')"
   ]
  },
  {
   "cell_type": "code",
   "execution_count": 3,
   "metadata": {
    "slideshow": {
     "slide_type": "-"
    }
   },
   "outputs": [
    {
     "name": "stdout",
     "output_type": "stream",
     "text": [
      "<xarray.Dataset>\n",
      "Dimensions:  (lat: 25, lon: 53, time: 2920)\n",
      "Coordinates:\n",
      "  * lat      (lat) float32 75.0 72.5 70.0 67.5 65.0 ... 25.0 22.5 20.0 17.5 15.0\n",
      "  * lon      (lon) float32 200.0 202.5 205.0 207.5 ... 322.5 325.0 327.5 330.0\n",
      "  * time     (time) object 2013-01-01 00:00:00 ... 2014-12-31 18:00:00\n",
      "Data variables:\n",
      "    air      (time, lat, lon) float32 241.2 242.5 243.5 ... 296.49 296.19 295.69\n",
      "Attributes:\n",
      "    Conventions:  COARDS\n",
      "    title:        4x daily NMC reanalysis (1948)\n",
      "    description:  Data is from NMC initialized reanalysis\\n(4x/day).  These a...\n",
      "    platform:     Model\n",
      "    references:   http://www.esrl.noaa.gov/psd/data/gridded/data.ncep.reanaly...\n"
     ]
    }
   ],
   "source": [
    "dataset = xarray.load_dataset('data/nmc_air_temperature.nc',\n",
    "                              use_cftime=True)\n",
    "print(dataset)"
   ]
  },
  {
   "cell_type": "code",
   "execution_count": 4,
   "metadata": {
    "slideshow": {
     "slide_type": "skip"
    }
   },
   "outputs": [],
   "source": [
    "# Get rid of attrs for easier printing later.\n",
    "dataset.attrs = {}"
   ]
  },
  {
   "cell_type": "markdown",
   "metadata": {
    "slideshow": {
     "slide_type": "subslide"
    }
   },
   "source": [
    "They also intelligently handle datetime, using `cftime` to manage different model calendars (e.g. `noleap`, `gregorian`, `360_day`)."
   ]
  },
  {
   "cell_type": "code",
   "execution_count": 5,
   "metadata": {
    "slideshow": {
     "slide_type": "-"
    }
   },
   "outputs": [
    {
     "data": {
      "text/html": [
       "<pre>&lt;xarray.DataArray &#x27;time&#x27; (time: 5)&gt;\n",
       "array([cftime.DatetimeGregorian(2013-01-01 00:00:00),\n",
       "       cftime.DatetimeGregorian(2013-01-01 06:00:00),\n",
       "       cftime.DatetimeGregorian(2013-01-01 12:00:00),\n",
       "       cftime.DatetimeGregorian(2013-01-01 18:00:00),\n",
       "       cftime.DatetimeGregorian(2013-01-02 00:00:00)], dtype=object)\n",
       "Coordinates:\n",
       "  * time     (time) object 2013-01-01 00:00:00 ... 2013-01-02 00:00:00</pre>"
      ],
      "text/plain": [
       "<xarray.DataArray 'time' (time: 5)>\n",
       "array([cftime.DatetimeGregorian(2013-01-01 00:00:00),\n",
       "       cftime.DatetimeGregorian(2013-01-01 06:00:00),\n",
       "       cftime.DatetimeGregorian(2013-01-01 12:00:00),\n",
       "       cftime.DatetimeGregorian(2013-01-01 18:00:00),\n",
       "       cftime.DatetimeGregorian(2013-01-02 00:00:00)], dtype=object)\n",
       "Coordinates:\n",
       "  * time     (time) object 2013-01-01 00:00:00 ... 2013-01-02 00:00:00"
      ]
     },
     "execution_count": 5,
     "metadata": {},
     "output_type": "execute_result"
    }
   ],
   "source": [
    "dataset['time'].head()"
   ]
  },
  {
   "cell_type": "markdown",
   "metadata": {
    "slideshow": {
     "slide_type": "subslide"
    }
   },
   "source": [
    "Their knowledge of dimension labeling makes it easy to slice and operate over dimensions."
   ]
  },
  {
   "cell_type": "code",
   "execution_count": 6,
   "metadata": {
    "slideshow": {
     "slide_type": "-"
    }
   },
   "outputs": [],
   "source": [
    "ds_slice = dataset.sel(time=slice('2013-06-05', '2013-06-06'),\n",
    "                       lat=slice(50, 30),\n",
    "                       lon=210)"
   ]
  },
  {
   "cell_type": "code",
   "execution_count": 7,
   "metadata": {
    "slideshow": {
     "slide_type": "fragment"
    }
   },
   "outputs": [
    {
     "name": "stdout",
     "output_type": "stream",
     "text": [
      "<xarray.Dataset>\n",
      "Dimensions:  (lat: 9, time: 8)\n",
      "Coordinates:\n",
      "  * lat      (lat) float32 50.0 47.5 45.0 42.5 40.0 37.5 35.0 32.5 30.0\n",
      "    lon      float32 210.0\n",
      "  * time     (time) object 2013-06-05 00:00:00 ... 2013-06-06 18:00:00\n",
      "Data variables:\n",
      "    air      (time, lat) float32 281.5 282.79 285.19998 ... 293.69998 293.69998\n"
     ]
    }
   ],
   "source": [
    "print(ds_slice)"
   ]
  },
  {
   "cell_type": "code",
   "execution_count": 8,
   "metadata": {
    "slideshow": {
     "slide_type": "fragment"
    }
   },
   "outputs": [
    {
     "data": {
      "text/html": [
       "<pre>&lt;xarray.Dataset&gt;\n",
       "Dimensions:  (lat: 9)\n",
       "Coordinates:\n",
       "  * lat      (lat) float32 50.0 47.5 45.0 42.5 40.0 37.5 35.0 32.5 30.0\n",
       "    lon      float32 210.0\n",
       "Data variables:\n",
       "    air      (lat) float32 1.4029149 1.2639275 ... 0.30293193 0.39051285</pre>"
      ],
      "text/plain": [
       "<xarray.Dataset>\n",
       "Dimensions:  (lat: 9)\n",
       "Coordinates:\n",
       "  * lat      (lat) float32 50.0 47.5 45.0 42.5 40.0 37.5 35.0 32.5 30.0\n",
       "    lon      float32 210.0\n",
       "Data variables:\n",
       "    air      (lat) float32 1.4029149 1.2639275 ... 0.30293193 0.39051285"
      ]
     },
     "execution_count": 8,
     "metadata": {},
     "output_type": "execute_result"
    }
   ],
   "source": [
    "ds_slice.std('time')"
   ]
  },
  {
   "cell_type": "markdown",
   "metadata": {
    "slideshow": {
     "slide_type": "subslide"
    }
   },
   "source": [
    "Special `.groupby()` operations make it simple to compute climatologies."
   ]
  },
  {
   "cell_type": "code",
   "execution_count": 9,
   "metadata": {
    "slideshow": {
     "slide_type": "-"
    }
   },
   "outputs": [],
   "source": [
    "ds_mean = dataset.mean(['lat', 'lon'])\n",
    "# Group off into each point's corresponding day of the year\n",
    "# and take the average over that group.\n",
    "annual_cycle = ds_mean.groupby('time.dayofyear').mean('time')"
   ]
  },
  {
   "cell_type": "code",
   "execution_count": 10,
   "metadata": {
    "slideshow": {
     "slide_type": "fragment"
    }
   },
   "outputs": [
    {
     "data": {
      "text/plain": [
       "[<matplotlib.lines.Line2D at 0x105cf9d30>]"
      ]
     },
     "execution_count": 10,
     "metadata": {},
     "output_type": "execute_result"
    },
    {
     "data": {
      "image/png": "[encoded data removed]",
      "text/plain": [
       "<Figure size 576x396 with 1 Axes>"
      ]
     },
     "metadata": {},
     "output_type": "display_data"
    }
   ],
   "source": [
    "annual_cycle['air'].plot()"
   ]
  },
  {
   "cell_type": "markdown",
   "metadata": {
    "slideshow": {
     "slide_type": "skip"
    }
   },
   "source": [
    "Other packages that could be covered but probably shouldn't to avoid overwhelming new python folks and in the interest of time:\n",
    "\n",
    "* `dask` for parallel and out-of-memory computations.\n",
    "* `matplotlib` for viz.\n",
    "* `xskillscore` for some of our metrics."
   ]
  },
  {
   "cell_type": "markdown",
   "metadata": {
    "slideshow": {
     "slide_type": "slide"
    }
   },
   "source": [
    "# Top-down View of `climpred`"
   ]
  },
  {
   "cell_type": "markdown",
   "metadata": {
    "slideshow": {
     "slide_type": "subslide"
    }
   },
   "source": [
    "`climpred` expects the initialized experiment to have specific dimension labels, which can be baked into the NetCDF file or can be post-processed and renamed in python."
   ]
  },
  {
   "cell_type": "markdown",
   "metadata": {
    "slideshow": {
     "slide_type": "fragment"
    }
   },
   "source": [
    "* `init` : Initialization dates and times. \n",
    "    - [1954, 1955, 1956, ...]\n",
    "    - ['1954-01-01', '1954-01-7', ...]"
   ]
  },
  {
   "cell_type": "markdown",
   "metadata": {
    "slideshow": {
     "slide_type": "fragment"
    }
   },
   "source": [
    "* `lead` : Time since initialization.\n",
    "    - [1, 2, 3, 4, ...]\n",
    "    - `units` attribute: ['years', 'seasons', 'months', 'weeks', 'pentads', 'days']"
   ]
  },
  {
   "cell_type": "markdown",
   "metadata": {
    "slideshow": {
     "slide_type": "fragment"
    }
   },
   "source": [
    "* `member` : Ensemble member (optional, for probabilistic metrics)."
   ]
  },
  {
   "cell_type": "markdown",
   "metadata": {
    "slideshow": {
     "slide_type": "fragment"
    }
   },
   "source": [
    "_An arbitrary number of additional dimensions can exist. E.g.,_ `lat`, `lon`, `depth`."
   ]
  },
  {
   "cell_type": "markdown",
   "metadata": {
    "slideshow": {
     "slide_type": "subslide"
    }
   },
   "source": [
    "## Datetime Alignment"
   ]
  },
  {
   "cell_type": "markdown",
   "metadata": {
    "slideshow": {
     "slide_type": "-"
    }
   },
   "source": [
    "One of the most powerful features of `climpred` is the automation of datetime alignment between the initialized prediction ensemble and the product it is being verified against.\n",
    "\n",
    "![](img/alignment/alignment1.png)"
   ]
  },
  {
   "cell_type": "markdown",
   "metadata": {
    "slideshow": {
     "slide_type": "subslide"
    }
   },
   "source": [
    "`climpred` automatically sub-selects a set of initializations that coincide with an observed point in time and that all verify with the observational product for all lead times.\n",
    "\n",
    "![](img/alignment/alignment3.png)"
   ]
  },
  {
   "cell_type": "markdown",
   "metadata": {
    "slideshow": {
     "slide_type": "subslide"
    }
   },
   "source": [
    "![](img/alignment/alignment4.png)"
   ]
  },
  {
   "cell_type": "markdown",
   "metadata": {
    "slideshow": {
     "slide_type": "slide"
    }
   },
   "source": [
    "# Demo: `climpred` Input"
   ]
  },
  {
   "cell_type": "code",
   "execution_count": 11,
   "metadata": {
    "slideshow": {
     "slide_type": "-"
    }
   },
   "outputs": [],
   "source": [
    "import xarray\n",
    "\n",
    "hind = xarray.open_dataset('data/DPLE.Pacific.nc')"
   ]
  },
  {
   "cell_type": "code",
   "execution_count": 12,
   "metadata": {
    "slideshow": {
     "slide_type": "-"
    }
   },
   "outputs": [
    {
     "name": "stdout",
     "output_type": "stream",
     "text": [
      "<xarray.Dataset>\n",
      "Dimensions:  (init: 64, lead: 10, nlat: 384, nlon: 320)\n",
      "Coordinates:\n",
      "  * init     (init) float32 1954.0 1955.0 1956.0 1957.0 ... 2015.0 2016.0 2017.0\n",
      "  * lead     (lead) int32 1 2 3 4 5 6 7 8 9 10\n",
      "    TLAT     (nlat, nlon) float64 ...\n",
      "    TLONG    (nlat, nlon) float64 ...\n",
      "Dimensions without coordinates: nlat, nlon\n",
      "Data variables:\n",
      "    SST      (init, lead, nlat, nlon) float32 ...\n"
     ]
    }
   ],
   "source": [
    "print(hind)"
   ]
  },
  {
   "cell_type": "markdown",
   "metadata": {
    "slideshow": {
     "slide_type": "subslide"
    }
   },
   "source": [
    "We'll be using bias-corrected SST anomaly forecasts from the CESM-DPLE over the Pacific."
   ]
  },
  {
   "cell_type": "code",
   "execution_count": 13,
   "metadata": {
    "slideshow": {
     "slide_type": "-"
    }
   },
   "outputs": [],
   "source": [
    "import cartopy.crs as ccrs\n",
    "import matplotlib.pyplot as plt"
   ]
  },
  {
   "cell_type": "code",
   "execution_count": 14,
   "metadata": {
    "slideshow": {
     "slide_type": "fragment"
    }
   },
   "outputs": [
    {
     "data": {
      "text/plain": [
       "<cartopy.mpl.feature_artist.FeatureArtist at 0x11b4f7908>"
      ]
     },
     "execution_count": 14,
     "metadata": {},
     "output_type": "execute_result"
    },
    {
     "data": {
      "image/png": "[encoded data removed]",
      "text/plain": [
       "<Figure size 576x396 with 2 Axes>"
      ]
     },
     "metadata": {},
     "output_type": "display_data"
    }
   ],
   "source": [
    "ax = plt.axes(projection=ccrs.Orthographic(-180, 40))\n",
    "\n",
    "# Make use of xarray's quick plot functionality.\n",
    "hind['SST'].sel(init=1965, lead=1).plot(ax=ax, transform=ccrs.PlateCarree(),\n",
    "                                      x='TLONG', y='TLAT')\n",
    "ax.coastlines()"
   ]
  },
  {
   "cell_type": "markdown",
   "metadata": {
    "slideshow": {
     "slide_type": "subslide"
    }
   },
   "source": [
    "`climpred` offers a `HindcastEnsemble` object that can be easily instantiated."
   ]
  },
  {
   "cell_type": "code",
   "execution_count": 15,
   "metadata": {
    "slideshow": {
     "slide_type": "-"
    }
   },
   "outputs": [
    {
     "name": "stdout",
     "output_type": "stream",
     "text": [
      "<climpred.HindcastEnsemble>\n",
      "Initialized Ensemble:\n",
      "    SST      (init, lead, nlat, nlon) float32 ...\n",
      "References:\n",
      "    None\n",
      "Uninitialized:\n",
      "    None\n"
     ]
    }
   ],
   "source": [
    "import climpred\n",
    "\n",
    "hindcast = climpred.HindcastEnsemble(hind)\n",
    "print(hindcast)"
   ]
  },
  {
   "cell_type": "code",
   "execution_count": 16,
   "metadata": {
    "slideshow": {
     "slide_type": "-"
    }
   },
   "outputs": [],
   "source": [
    "fosi = xarray.open_dataset('data/FOSI.Pacific.nc')"
   ]
  },
  {
   "cell_type": "code",
   "execution_count": 17,
   "metadata": {
    "slideshow": {
     "slide_type": "skip"
    }
   },
   "outputs": [],
   "source": [
    "# Move to anomaly space, not necessary to explain during\n",
    "# presentation.\n",
    "fosi = fosi - fosi.sel(time=slice(1964, 2014)).mean()"
   ]
  },
  {
   "cell_type": "markdown",
   "metadata": {
    "slideshow": {
     "slide_type": "subslide"
    }
   },
   "source": [
    "An arbitrary number of verification products can be appended to the `HindcastEnsemble` object."
   ]
  },
  {
   "cell_type": "code",
   "execution_count": 18,
   "metadata": {
    "slideshow": {
     "slide_type": "-"
    }
   },
   "outputs": [
    {
     "name": "stdout",
     "output_type": "stream",
     "text": [
      "<climpred.HindcastEnsemble>\n",
      "Initialized Ensemble:\n",
      "    SST      (init, lead, nlat, nlon) float32 ...\n",
      "FOSI:\n",
      "    SST      (time, nlat, nlon) float32 nan nan nan nan nan ... nan nan nan nan\n",
      "Obs2:\n",
      "    SST      (time, nlat, nlon) float32 nan nan nan nan nan ... nan nan nan nan\n",
      "Uninitialized:\n",
      "    None\n"
     ]
    }
   ],
   "source": [
    "# FOSI: Forced Ocean-Sea Ice reconstruction.\n",
    "hindcast = hindcast.add_reference(fosi, name='FOSI')\n",
    "\n",
    "# Duplicated for this demo.\n",
    "hindcast = hindcast.add_reference(fosi, name='Obs2')\n",
    "print(hindcast)"
   ]
  },
  {
   "cell_type": "markdown",
   "metadata": {
    "slideshow": {
     "slide_type": "slide"
    }
   },
   "source": [
    "# Demo: `climpred` Analysis\n",
    "\n",
    "Verification is made easy by simply running the `.compute_metric()` method and indicating one of our ~30 deterministic and probabilistic metrics."
   ]
  },
  {
   "cell_type": "code",
   "execution_count": 19,
   "metadata": {
    "slideshow": {
     "slide_type": "-"
    }
   },
   "outputs": [
    {
     "name": "stdout",
     "output_type": "stream",
     "text": [
      "<xarray.Dataset>\n",
      "Dimensions:  (lead: 10, nlat: 384, nlon: 320)\n",
      "Coordinates:\n",
      "    ULONG    (nlat, nlon) float64 321.1 322.3 323.4 324.5 ... 319.2 319.6 320.0\n",
      "    z_t      float32 500.0\n",
      "    ULAT     (nlat, nlon) float64 -78.95 -78.95 -78.95 ... 72.42 72.41 72.41\n",
      "  * lead     (lead) int32 1 2 3 4 5 6 7 8 9 10\n",
      "    TLONG    (nlat, nlon) float64 320.6 321.7 322.8 323.9 ... 318.9 319.4 319.8\n",
      "    TLAT     (nlat, nlon) float64 -79.22 -79.22 -79.22 ... 72.2 72.19 72.19\n",
      "Dimensions without coordinates: nlat, nlon\n",
      "Data variables:\n",
      "    SST      (lead, nlat, nlon) float32 nan nan nan nan nan ... nan nan nan nan\n",
      "Attributes:\n",
      "    prediction_skill:              calculated by climpred https://climpred.re...\n",
      "    skill_calculated_by_function:  compute_hindcast\n",
      "    number_of_initializations:     64\n",
      "    metric:                        pearson_r\n",
      "    comparison:                    e2r\n",
      "    dim:                           time\n",
      "    units:                         None\n",
      "    created:                       2020-01-19 14:57:24\n"
     ]
    }
   ],
   "source": [
    "acc = hindcast.compute_metric(refname='FOSI', metric='pearson_r')\n",
    "print(acc)"
   ]
  },
  {
   "cell_type": "markdown",
   "metadata": {
    "slideshow": {
     "slide_type": "subslide"
    }
   },
   "source": [
    "The `compute_persistence()` function allows the user to compute a reference forecast for comparison. Changing the metric requires a simple string change!"
   ]
  },
  {
   "cell_type": "code",
   "execution_count": 20,
   "metadata": {
    "slideshow": {
     "slide_type": "fragment"
    }
   },
   "outputs": [],
   "source": [
    "# Take mean over latitude and longitude.\n",
    "hindcast_avg = hindcast.mean(['nlat', 'nlon'])\n",
    "# Compute RMSE for forecasts relative to FOSI.\n",
    "rmse = hindcast_avg.compute_metric(refname='FOSI', metric='rmse')\n",
    "# Compute RMSE from persistence for FOSI.\n",
    "persistence = hindcast_avg.compute_persistence(refname='FOSI', metric='rmse')"
   ]
  },
  {
   "cell_type": "code",
   "execution_count": 21,
   "metadata": {
    "slideshow": {
     "slide_type": "fragment"
    }
   },
   "outputs": [
    {
     "data": {
      "image/png": "[encoded data removed]",
      "text/plain": [
       "<Figure size 576x396 with 1 Axes>"
      ]
     },
     "metadata": {},
     "output_type": "display_data"
    }
   ],
   "source": [
    "# Quick plotting feature of xarray.\n",
    "rmse.SST.plot(marker='o', markersize=12)\n",
    "persistence.SST.plot(color='k', linestyle='--')\n",
    "plt.show()"
   ]
  },
  {
   "cell_type": "markdown",
   "metadata": {
    "slideshow": {
     "slide_type": "subslide"
    }
   },
   "source": [
    "Here, we use the Mean Square Skill Score."
   ]
  },
  {
   "cell_type": "code",
   "execution_count": 22,
   "metadata": {
    "slideshow": {
     "slide_type": "fragment"
    }
   },
   "outputs": [],
   "source": [
    "# Take mean over latitude and longitude.\n",
    "hindcast_avg = hindcast.mean(['nlat', 'nlon'])\n",
    "# Compute Mean Square Skill Score for forecasts relative to FOSI.\n",
    "msss = hindcast_avg.compute_metric(refname='FOSI', metric='msss')\n",
    "# Compute Mean Square Skill Score from persistence for FOSI.\n",
    "persistence = hindcast_avg.compute_persistence(refname='FOSI', metric='msss')"
   ]
  },
  {
   "cell_type": "code",
   "execution_count": 23,
   "metadata": {
    "slideshow": {
     "slide_type": "fragment"
    }
   },
   "outputs": [
    {
     "data": {
      "image/png": "[encoded data removed]",
      "text/plain": [
       "<Figure size 576x396 with 1 Axes>"
      ]
     },
     "metadata": {},
     "output_type": "display_data"
    }
   ],
   "source": [
    "# Quick plotting feature of xarray.\n",
    "msss.SST.plot(marker='o', markersize=12)\n",
    "persistence.SST.plot(color='k', linestyle='--')\n",
    "plt.show()"
   ]
  },
  {
   "cell_type": "markdown",
   "metadata": {
    "slideshow": {
     "slide_type": "subslide"
    }
   },
   "source": [
    "Users can also pass in custom metrics that aren't yet offered through `climpred` by default."
   ]
  },
  {
   "cell_type": "code",
   "execution_count": 24,
   "metadata": {
    "slideshow": {
     "slide_type": "fragment"
    }
   },
   "outputs": [],
   "source": [
    "import numpy\n",
    "def _msle(fct, obs, dim=None, **metric_kwargs):\n",
    "    return ( (numpy.log(fct + 1) + numpy.log(obs + 1) ) ** 2).mean(dim)"
   ]
  },
  {
   "cell_type": "code",
   "execution_count": 25,
   "metadata": {
    "slideshow": {
     "slide_type": "fragment"
    }
   },
   "outputs": [],
   "source": [
    "from climpred.metrics import Metric\n",
    "msle = Metric(\n",
    "    name='msle',\n",
    "    function=_msle,\n",
    "    probabilistic=False,\n",
    "    positive=False,\n",
    "    unit_power=0,\n",
    "    )"
   ]
  },
  {
   "cell_type": "code",
   "execution_count": 26,
   "metadata": {
    "slideshow": {
     "slide_type": "fragment"
    }
   },
   "outputs": [
    {
     "data": {
      "text/html": [
       "<pre>&lt;xarray.Dataset&gt;\n",
       "Dimensions:  (lead: 10)\n",
       "Coordinates:\n",
       "    z_t      float32 500.0\n",
       "  * lead     (lead) int32 1 2 3 4 5 6 7 8 9 10\n",
       "Data variables:\n",
       "    SST      (lead) float32 0.078357585 0.06294025 ... 0.10350203 0.103761144\n",
       "Attributes:\n",
       "    prediction_skill:              calculated by climpred https://climpred.re...\n",
       "    skill_calculated_by_function:  compute_hindcast\n",
       "    number_of_initializations:     64\n",
       "    metric:                        msle\n",
       "    comparison:                    e2r\n",
       "    dim:                           time\n",
       "    units:                         None\n",
       "    created:                       2020-01-19 14:57:34</pre>"
      ],
      "text/plain": [
       "<xarray.Dataset>\n",
       "Dimensions:  (lead: 10)\n",
       "Coordinates:\n",
       "    z_t      float32 500.0\n",
       "  * lead     (lead) int32 1 2 3 4 5 6 7 8 9 10\n",
       "Data variables:\n",
       "    SST      (lead) float32 0.078357585 0.06294025 ... 0.10350203 0.103761144\n",
       "Attributes:\n",
       "    prediction_skill:              calculated by climpred https://climpred.re...\n",
       "    skill_calculated_by_function:  compute_hindcast\n",
       "    number_of_initializations:     64\n",
       "    metric:                        msle\n",
       "    comparison:                    e2r\n",
       "    dim:                           time\n",
       "    units:                         None\n",
       "    created:                       2020-01-19 14:57:34"
      ]
     },
     "execution_count": 26,
     "metadata": {},
     "output_type": "execute_result"
    }
   ],
   "source": [
    "hindcast_avg.compute_metric(refname='FOSI', metric=msle)"
   ]
  },
  {
   "cell_type": "markdown",
   "metadata": {
    "slideshow": {
     "slide_type": "slide"
    }
   },
   "source": [
    "# Advanced Visualization\n",
    "\n",
    "Using any package from the python ecosystem, we can then produce a publication-ready figure. The main visualization package in python is `matplotlib`, but the user can use their favorite, e.g. `ggplot`, `seaborn`, ..."
   ]
  },
  {
   "cell_type": "code",
   "execution_count": 27,
   "metadata": {
    "slideshow": {
     "slide_type": "skip"
    }
   },
   "outputs": [],
   "source": [
    "acc_map = hindcast.compute_metric(refname='FOSI', metric='pearson_r')\n",
    "acc_pval = hindcast.compute_metric(refname='FOSI', metric='pearson_r_eff_p_value')"
   ]
  },
  {
   "cell_type": "markdown",
   "metadata": {
    "slideshow": {
     "slide_type": "skip"
    }
   },
   "source": [
    "```python\n",
    "import proplot as plot\n",
    "\n",
    "plot.rc['geogrid.alpha'] = 0\n",
    "plot.rc['suptitle.weight'] = 'bold'\n",
    "plot.rc.fontname = 'Helvetica'\n",
    "\n",
    "plot.rc['title.size'] = 18\n",
    "plot.rc['suptitle.size'] = 18\n",
    "\n",
    "f, axs = plot.subplots(nrows=2, ncols=5, \n",
    "                       proj='ortho',\n",
    "                       proj_kw={'central_longitude': -180,\n",
    "                                'central_latitude': 40},\n",
    "                       top=1.5)\n",
    "\n",
    "for i, ax in zip(range(10), axs):\n",
    "    p = ax.pcolormesh(acc_map.TLONG,\n",
    "                      acc_map.TLAT,\n",
    "                      acc_map.SST.isel(lead=i),\n",
    "                      levels=plot.arange(-1, 1, 0.1),\n",
    "                      cmap='Balance')\n",
    "    \n",
    "    ax.contourf(acc_map.TLONG,\n",
    "                acc_map.TLAT,\n",
    "                acc_pval.SST.isel(lead=i),\n",
    "                levels=plot.arange(0, 0.05, 0.01),\n",
    "                hatches=['..'],\n",
    "                alpha=0)\n",
    "    \n",
    "    ax.format(title=f'Lead {i+1}')\n",
    "\n",
    "axs.format(land=True, suptitle='Potential Predictability of SSTs')\n",
    "cb = f.colorbar(p, label='Anomaly Correlation Coefficient',\n",
    "           loc='b', length=0.5, labelsize=18)\n",
    "cb.ax.tick_params(labelsize=18) \n",
    "\n",
    "# f.savefig('img/example_pub_figure.png')\n",
    "```"
   ]
  },
  {
   "cell_type": "markdown",
   "metadata": {
    "slideshow": {
     "slide_type": "subslide"
    }
   },
   "source": [
    "![](img/example_pub_figure.png)"
   ]
  },
  {
   "cell_type": "markdown",
   "metadata": {
    "slideshow": {
     "slide_type": "slide"
    }
   },
   "source": [
    "# Output\n",
    "\n",
    "If you want to visualize in your own software (e.g. NCL, GMT, ...) or save out the results of the analysis, you can easily save it out as a netCDF."
   ]
  },
  {
   "cell_type": "code",
   "execution_count": 29,
   "metadata": {
    "slideshow": {
     "slide_type": "-"
    }
   },
   "outputs": [],
   "source": [
    "mape = hindcast_avg.compute_metric(refname='FOSI', metric='mape')\n",
    "\n",
    "mape.to_netcdf('data/MAPE.SST.nc')"
   ]
  },
  {
   "cell_type": "markdown",
   "metadata": {
    "slideshow": {
     "slide_type": "subslide"
    }
   },
   "source": [
    "Now we have a NetCDF file to store away or use in any other software!"
   ]
  },
  {
   "cell_type": "markdown",
   "metadata": {
    "slideshow": {
     "slide_type": "-"
    }
   },
   "source": [
    "![](img/mape_command_line.png)"
   ]
  },
  {
   "cell_type": "markdown",
   "metadata": {
    "slideshow": {
     "slide_type": "slide"
    }
   },
   "source": [
    "# `climpred` Development Roadmap"
   ]
  },
  {
   "cell_type": "markdown",
   "metadata": {
    "slideshow": {
     "slide_type": "fragment"
    }
   },
   "source": [
    "1. Add multiple reference possibilities.\n",
    "\n",
    "```python\n",
    ">>> HindcastEnsemble.compute_reference('persistence', metric='rmse')\n",
    ">>> HindcastEnsemble.compute_reference('damped', metric='rmse')\n",
    ">>> HindcastEnsemble.compute_reference('climatology', metric='rmse')\n",
    "\n",
    "```"
   ]
  },
  {
   "cell_type": "markdown",
   "metadata": {
    "slideshow": {
     "slide_type": "fragment"
    }
   },
   "source": [
    "2. Robust support for S2S and diverse model calendars.\n",
    "    - Currently support 'seasons', 'months', 'weeks', 'pentads', 'days' for lead time."
   ]
  },
  {
   "cell_type": "markdown",
   "metadata": {
    "slideshow": {
     "slide_type": "fragment"
    }
   },
   "source": [
    "3. Optimize for parallel performance with `dask` in mind."
   ]
  },
  {
   "cell_type": "markdown",
   "metadata": {
    "slideshow": {
     "slide_type": "fragment"
    }
   },
   "source": [
    "4. Polish up temporal and spatial smoothing modules."
   ]
  },
  {
   "cell_type": "markdown",
   "metadata": {
    "slideshow": {
     "slide_type": "slide"
    }
   },
   "source": [
    "# How To Contribute!"
   ]
  },
  {
   "cell_type": "markdown",
   "metadata": {
    "slideshow": {
     "slide_type": "fragment"
    }
   },
   "source": [
    "The number one way is to try out `climpred` and post issues/discussion topics on Github. Encourage your colleagues to try it out!"
   ]
  },
  {
   "cell_type": "markdown",
   "metadata": {
    "slideshow": {
     "slide_type": "fragment"
    }
   },
   "source": [
    "For folks with more python experience, consider opening a Pull Request. We have a detailed guide on how to add metrics and functions to the code base on the docs. We are happy to guide first time contributers as well."
   ]
  },
  {
   "cell_type": "markdown",
   "metadata": {
    "slideshow": {
     "slide_type": "fragment"
    }
   },
   "source": [
    "Please feel free to reach out if you have any questions or advice! (riley.brady@colorado.edu)"
   ]
  },
  {
   "cell_type": "markdown",
   "metadata": {
    "slideshow": {
     "slide_type": "slide"
    }
   },
   "source": [
    "![](img/climpred-logo.png)\n",
    "\n",
    "Documentation: https://climpred.readthedocs.io\n",
    "        \n",
    "Github: https://github.com/bradyrx/climpred\n",
    "        \n",
    "PyPI Installation: `pip install climpred`\n",
    "    \n",
    "Conda Installation: `conda install -c conda-forge climpred`"
   ]
  }
 ],
 "metadata": {
  "celltoolbar": "Slideshow",
  "kernelspec": {
   "display_name": "Python 3",
   "language": "python",
   "name": "python3"
  },
  "toc": {
   "base_numbering": 1,
   "nav_menu": {},
   "number_sections": true,
   "sideBar": true,
   "skip_h1_title": false,
   "title_cell": "Table of Contents",
   "title_sidebar": "Contents",
   "toc_cell": false,
   "toc_position": {},
   "toc_section_display": true,
   "toc_window_display": false
  },
  "varInspector": {
   "cols": {
    "lenName": 16,
    "lenType": 16,
    "lenVar": 40
   },
   "kernels_config": {
    "python": {
     "delete_cmd_postfix": "",
     "delete_cmd_prefix": "del ",
     "library": "var_list.py",
     "varRefreshCmd": "print(var_dic_list())"
    },
    "r": {
     "delete_cmd_postfix": ") ",
     "delete_cmd_prefix": "rm(",
     "library": "var_list.r",
     "varRefreshCmd": "cat(var_dic_list()) "
    }
   },
   "types_to_exclude": [
    "module",
    "function",
    "builtin_function_or_method",
    "instance",
    "_Feature"
   ],
   "window_display": false
  }
 },
 "nbformat": 4,
 "nbformat_minor": 4
}
